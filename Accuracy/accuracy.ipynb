{
 "cells": [
  {
   "cell_type": "code",
   "execution_count": 30,
   "metadata": {
    "collapsed": true
   },
   "outputs": [],
   "source": [
    "import numpy as np\n",
    "import pandas as pd\n",
    "import matplotlib.pyplot as plt\n",
    "from sklearn.linear_model import LogisticRegression\n",
    "from sklearn.model_selection import GridSearchCV\n",
    "from sklearn.tree import DecisionTreeClassifier\n",
    "from sklearn.preprocessing import StandardScaler"
   ]
  },
  {
   "cell_type": "code",
   "execution_count": 139,
   "metadata": {
    "collapsed": true
   },
   "outputs": [],
   "source": [
    "from sklearn import datasets\n",
    "digits = datasets.load_digits()"
   ]
  },
  {
   "cell_type": "code",
   "execution_count": 140,
   "metadata": {},
   "outputs": [],
   "source": [
    "X, y = digits.data, digits.target"
   ]
  },
  {
   "cell_type": "code",
   "execution_count": 141,
   "metadata": {},
   "outputs": [],
   "source": [
    "X = StandardScaler().fit_transform(X)"
   ]
  },
  {
   "cell_type": "code",
   "execution_count": 164,
   "metadata": {},
   "outputs": [],
   "source": [
    "clf_LR = LogisticRegression(penalty='l1', tol=0.01)"
   ]
  },
  {
   "cell_type": "code",
   "execution_count": 165,
   "metadata": {},
   "outputs": [
    {
     "data": {
      "text/plain": [
       "LogisticRegression(C=1.0, class_weight=None, dual=False, fit_intercept=True,\n",
       "          intercept_scaling=1, max_iter=100, multi_class='ovr', n_jobs=1,\n",
       "          penalty='l1', random_state=None, solver='liblinear', tol=0.001,\n",
       "          verbose=0, warm_start=False)"
      ]
     },
     "execution_count": 165,
     "metadata": {},
     "output_type": "execute_result"
    }
   ],
   "source": [
    "clf_LR.fit(X, y)"
   ]
  },
  {
   "cell_type": "code",
   "execution_count": 166,
   "metadata": {
    "collapsed": true
   },
   "outputs": [],
   "source": [
    "from sklearn.model_selection import cross_val_score"
   ]
  },
  {
   "cell_type": "code",
   "execution_count": 167,
   "metadata": {},
   "outputs": [
    {
     "data": {
      "text/plain": [
       "0.94930820130751858"
      ]
     },
     "execution_count": 167,
     "metadata": {},
     "output_type": "execute_result"
    }
   ],
   "source": [
    "np.mean(cross_val_score(clf_LR, X, y, cv = 15, scoring = 'accuracy' ))"
   ]
  },
  {
   "cell_type": "code",
   "execution_count": null,
   "metadata": {},
   "outputs": [],
   "source": []
  },
  {
   "cell_type": "code",
   "execution_count": null,
   "metadata": {},
   "outputs": [],
   "source": []
  },
  {
   "cell_type": "markdown",
   "metadata": {},
   "source": [
    "## Средняя точность LogisticRegression - 0.94"
   ]
  },
  {
   "cell_type": "code",
   "execution_count": 205,
   "metadata": {
    "collapsed": true
   },
   "outputs": [],
   "source": [
    "depths = np.arange(1,20)"
   ]
  },
  {
   "cell_type": "code",
   "execution_count": 206,
   "metadata": {
    "collapsed": true
   },
   "outputs": [],
   "source": [
    "params = {'max_depth': depths}"
   ]
  },
  {
   "cell_type": "code",
   "execution_count": 213,
   "metadata": {},
   "outputs": [],
   "source": [
    "\n",
    "gridsearch = GridSearchCV(DecisionTreeClassifier(), param_grid=params, scoring='accuracy', cv=20)"
   ]
  },
  {
   "cell_type": "code",
   "execution_count": 214,
   "metadata": {},
   "outputs": [
    {
     "data": {
      "text/plain": [
       "GridSearchCV(cv=20, error_score='raise',\n",
       "       estimator=DecisionTreeClassifier(class_weight=None, criterion='gini', max_depth=None,\n",
       "            max_features=None, max_leaf_nodes=None,\n",
       "            min_impurity_decrease=0.0, min_impurity_split=None,\n",
       "            min_samples_leaf=1, min_samples_split=2,\n",
       "            min_weight_fraction_leaf=0.0, presort=False, random_state=None,\n",
       "            splitter='best'),\n",
       "       fit_params=None, iid=True, n_jobs=1,\n",
       "       param_grid={'max_depth': array([ 1,  2,  3,  4,  5,  6,  7,  8,  9, 10, 11, 12, 13, 14, 15, 16, 17,\n",
       "       18, 19])},\n",
       "       pre_dispatch='2*n_jobs', refit=True, return_train_score=True,\n",
       "       scoring='accuracy', verbose=0)"
      ]
     },
     "execution_count": 214,
     "metadata": {},
     "output_type": "execute_result"
    }
   ],
   "source": [
    "gridsearch.fit(X,y)"
   ]
  },
  {
   "cell_type": "code",
   "execution_count": 215,
   "metadata": {},
   "outputs": [
    {
     "name": "stderr",
     "output_type": "stream",
     "text": [
      "/Users/alex/anaconda3/lib/python3.6/site-packages/sklearn/model_selection/_search.py:747: DeprecationWarning: The grid_scores_ attribute was deprecated in version 0.18 in favor of the more elaborate cv_results_ attribute. The grid_scores_ attribute will not be available from 0.20\n",
      "  DeprecationWarning)\n"
     ]
    },
    {
     "data": {
      "text/plain": [
       "[mean: 0.84140, std: 0.03842, params: {'max_depth': 16},\n",
       " mean: 0.84085, std: 0.03508, params: {'max_depth': 11},\n",
       " mean: 0.83639, std: 0.03073, params: {'max_depth': 9},\n",
       " mean: 0.83639, std: 0.04277, params: {'max_depth': 12},\n",
       " mean: 0.83528, std: 0.03359, params: {'max_depth': 13},\n",
       " mean: 0.83417, std: 0.02781, params: {'max_depth': 19},\n",
       " mean: 0.83027, std: 0.04387, params: {'max_depth': 18},\n",
       " mean: 0.82916, std: 0.04424, params: {'max_depth': 14},\n",
       " mean: 0.82749, std: 0.03657, params: {'max_depth': 10},\n",
       " mean: 0.82749, std: 0.04183, params: {'max_depth': 17},\n",
       " mean: 0.82638, std: 0.03424, params: {'max_depth': 15},\n",
       " mean: 0.81358, std: 0.04499, params: {'max_depth': 8},\n",
       " mean: 0.80245, std: 0.04596, params: {'max_depth': 7},\n",
       " mean: 0.74513, std: 0.05917, params: {'max_depth': 6},\n",
       " mean: 0.64608, std: 0.05745, params: {'max_depth': 5},\n",
       " mean: 0.54591, std: 0.05267, params: {'max_depth': 4},\n",
       " mean: 0.46021, std: 0.03955, params: {'max_depth': 3},\n",
       " mean: 0.31441, std: 0.02441, params: {'max_depth': 2},\n",
       " mean: 0.19755, std: 0.00467, params: {'max_depth': 1}]"
      ]
     },
     "execution_count": 215,
     "metadata": {},
     "output_type": "execute_result"
    }
   ],
   "source": [
    "sorted(gridsearch.grid_scores_, key = lambda x: -x.mean_validation_score)"
   ]
  },
  {
   "cell_type": "code",
   "execution_count": 224,
   "metadata": {
    "collapsed": true
   },
   "outputs": [],
   "source": [
    "tree_clf = DecisionTreeClassifier(max_depth=10)"
   ]
  },
  {
   "cell_type": "code",
   "execution_count": 225,
   "metadata": {},
   "outputs": [
    {
     "data": {
      "text/plain": [
       "DecisionTreeClassifier(class_weight=None, criterion='gini', max_depth=10,\n",
       "            max_features=None, max_leaf_nodes=None,\n",
       "            min_impurity_decrease=0.0, min_impurity_split=None,\n",
       "            min_samples_leaf=1, min_samples_split=2,\n",
       "            min_weight_fraction_leaf=0.0, presort=False, random_state=None,\n",
       "            splitter='best')"
      ]
     },
     "execution_count": 225,
     "metadata": {},
     "output_type": "execute_result"
    }
   ],
   "source": [
    "tree_clf.fit(X, y)"
   ]
  },
  {
   "cell_type": "code",
   "execution_count": 226,
   "metadata": {},
   "outputs": [
    {
     "data": {
      "text/plain": [
       "0.8403149172183485"
      ]
     },
     "execution_count": 226,
     "metadata": {},
     "output_type": "execute_result"
    }
   ],
   "source": [
    "np.mean(cross_val_score(tree_clf, X, y, cv = 30, scoring = 'accuracy' ))"
   ]
  },
  {
   "cell_type": "markdown",
   "metadata": {},
   "source": [
    "## Деревья выдали в среднем 84%"
   ]
  },
  {
   "cell_type": "code",
   "execution_count": 227,
   "metadata": {
    "collapsed": true
   },
   "outputs": [],
   "source": [
    "from sklearn.neighbors import KNeighborsClassifier"
   ]
  },
  {
   "cell_type": "code",
   "execution_count": 228,
   "metadata": {
    "collapsed": true
   },
   "outputs": [],
   "source": [
    "KNN_clf = KNeighborsClassifier()"
   ]
  },
  {
   "cell_type": "code",
   "execution_count": 229,
   "metadata": {},
   "outputs": [
    {
     "data": {
      "text/plain": [
       "KNeighborsClassifier(algorithm='auto', leaf_size=30, metric='minkowski',\n",
       "           metric_params=None, n_jobs=1, n_neighbors=5, p=2,\n",
       "           weights='uniform')"
      ]
     },
     "execution_count": 229,
     "metadata": {},
     "output_type": "execute_result"
    }
   ],
   "source": [
    "KNN_clf.fit(X, y)"
   ]
  },
  {
   "cell_type": "code",
   "execution_count": 230,
   "metadata": {},
   "outputs": [
    {
     "data": {
      "text/plain": [
       "0.9677717930603601"
      ]
     },
     "execution_count": 230,
     "metadata": {},
     "output_type": "execute_result"
    }
   ],
   "source": [
    "np.mean(cross_val_score(KNN_clf, X, y, cv = 20, scoring = 'accuracy' ))"
   ]
  },
  {
   "cell_type": "markdown",
   "metadata": {},
   "source": [
    "## У KNN на данной задаче у меня получились лучшие результаты, 97%"
   ]
  },
  {
   "cell_type": "code",
   "execution_count": 16,
   "metadata": {},
   "outputs": [
    {
     "name": "stderr",
     "output_type": "stream",
     "text": [
      "Using Theano backend.\n"
     ]
    }
   ],
   "source": [
    "import keras"
   ]
  },
  {
   "cell_type": "code",
   "execution_count": 17,
   "metadata": {
    "collapsed": true
   },
   "outputs": [],
   "source": [
    "from keras.models import Sequential"
   ]
  },
  {
   "cell_type": "code",
   "execution_count": 52,
   "metadata": {
    "collapsed": true
   },
   "outputs": [],
   "source": [
    "from keras.layers import Dense, Dropout"
   ]
  },
  {
   "cell_type": "code",
   "execution_count": 123,
   "metadata": {},
   "outputs": [
    {
     "name": "stderr",
     "output_type": "stream",
     "text": [
      "/Users/alex/anaconda3/lib/python3.6/site-packages/ipykernel_launcher.py:2: UserWarning: Update your `Dense` call to the Keras 2 API: `Dense(200, input_dim=64, activation=\"relu\", kernel_initializer=\"glorot_uniform\")`\n",
      "  \n",
      "/Users/alex/anaconda3/lib/python3.6/site-packages/ipykernel_launcher.py:4: UserWarning: Update your `Dense` call to the Keras 2 API: `Dense(100, activation=\"relu\", kernel_initializer=\"glorot_uniform\")`\n",
      "  after removing the cwd from sys.path.\n"
     ]
    }
   ],
   "source": [
    "model = Sequential()\n",
    "model.add(Dense(200, input_dim=64, activation='relu', init=\"glorot_uniform\"))\n",
    "model.add(Dropout(0.3))\n",
    "model.add(Dense(100, activation='relu', init=\"glorot_uniform\"))\n",
    "model.add(Dropout(0.2))\n",
    "model.add(Dense(10, activation='sigmoid'))\n",
    "model.compile(loss='categorical_crossentropy', optimizer='adam', metrics=['accuracy'])"
   ]
  },
  {
   "cell_type": "code",
   "execution_count": 124,
   "metadata": {},
   "outputs": [],
   "source": [
    "y_dum = pd.get_dummies(y)"
   ]
  },
  {
   "cell_type": "code",
   "execution_count": 125,
   "metadata": {
    "collapsed": true
   },
   "outputs": [],
   "source": [
    "y_dum = np.asarray(y_dum)"
   ]
  },
  {
   "cell_type": "code",
   "execution_count": 126,
   "metadata": {},
   "outputs": [
    {
     "name": "stdout",
     "output_type": "stream",
     "text": [
      "Train on 1437 samples, validate on 360 samples\n",
      "Epoch 1/300\n",
      "1437/1437 [==============================] - 0s - loss: 2.0468 - acc: 0.4154 - val_loss: 1.7283 - val_acc: 0.7917\n",
      "Epoch 2/300\n",
      "1437/1437 [==============================] - 0s - loss: 1.3047 - acc: 0.8051 - val_loss: 0.8131 - val_acc: 0.8528\n",
      "Epoch 3/300\n",
      "1437/1437 [==============================] - 0s - loss: 0.5270 - acc: 0.8775 - val_loss: 0.4539 - val_acc: 0.8778\n",
      "Epoch 4/300\n",
      "1437/1437 [==============================] - 0s - loss: 0.3060 - acc: 0.9137 - val_loss: 0.3630 - val_acc: 0.8806\n",
      "Epoch 5/300\n",
      "1437/1437 [==============================] - 0s - loss: 0.2134 - acc: 0.9346 - val_loss: 0.3490 - val_acc: 0.8806\n",
      "Epoch 6/300\n",
      "1437/1437 [==============================] - 0s - loss: 0.1572 - acc: 0.9548 - val_loss: 0.3237 - val_acc: 0.8917\n",
      "Epoch 7/300\n",
      "1437/1437 [==============================] - 0s - loss: 0.1288 - acc: 0.9652 - val_loss: 0.3325 - val_acc: 0.8944\n",
      "Epoch 8/300\n",
      "1437/1437 [==============================] - 0s - loss: 0.1039 - acc: 0.9722 - val_loss: 0.3158 - val_acc: 0.9056\n",
      "Epoch 9/300\n",
      "1437/1437 [==============================] - 0s - loss: 0.0991 - acc: 0.9715 - val_loss: 0.3243 - val_acc: 0.9111\n",
      "Epoch 10/300\n",
      "1437/1437 [==============================] - 0s - loss: 0.0819 - acc: 0.9770 - val_loss: 0.3455 - val_acc: 0.9083\n",
      "Epoch 11/300\n",
      "1437/1437 [==============================] - 0s - loss: 0.0789 - acc: 0.9777 - val_loss: 0.3077 - val_acc: 0.9083\n",
      "Epoch 12/300\n",
      "1437/1437 [==============================] - 0s - loss: 0.0634 - acc: 0.9833 - val_loss: 0.3248 - val_acc: 0.9083\n",
      "Epoch 13/300\n",
      "1437/1437 [==============================] - 0s - loss: 0.0559 - acc: 0.9812 - val_loss: 0.3111 - val_acc: 0.9222\n",
      "Epoch 14/300\n",
      "1437/1437 [==============================] - 0s - loss: 0.0556 - acc: 0.9847 - val_loss: 0.3126 - val_acc: 0.9139\n",
      "Epoch 15/300\n",
      "1437/1437 [==============================] - 0s - loss: 0.0553 - acc: 0.9826 - val_loss: 0.2774 - val_acc: 0.9167\n",
      "Epoch 16/300\n",
      "1437/1437 [==============================] - 0s - loss: 0.0432 - acc: 0.9889 - val_loss: 0.2692 - val_acc: 0.9250\n",
      "Epoch 17/300\n",
      "1437/1437 [==============================] - 0s - loss: 0.0394 - acc: 0.9882 - val_loss: 0.2794 - val_acc: 0.9278\n",
      "Epoch 18/300\n",
      "1437/1437 [==============================] - 0s - loss: 0.0422 - acc: 0.9882 - val_loss: 0.2803 - val_acc: 0.9278\n",
      "Epoch 19/300\n",
      "1437/1437 [==============================] - 0s - loss: 0.0347 - acc: 0.9910 - val_loss: 0.2843 - val_acc: 0.9194\n",
      "Epoch 20/300\n",
      "1437/1437 [==============================] - 0s - loss: 0.0326 - acc: 0.9930 - val_loss: 0.2934 - val_acc: 0.9250\n",
      "Epoch 21/300\n",
      "1437/1437 [==============================] - 0s - loss: 0.0289 - acc: 0.9944 - val_loss: 0.3047 - val_acc: 0.9222\n",
      "Epoch 22/300\n",
      "1437/1437 [==============================] - 0s - loss: 0.0284 - acc: 0.9916 - val_loss: 0.2965 - val_acc: 0.9250\n",
      "Epoch 23/300\n",
      "1437/1437 [==============================] - 0s - loss: 0.0220 - acc: 0.9951 - val_loss: 0.2830 - val_acc: 0.9250\n",
      "Epoch 24/300\n",
      "1437/1437 [==============================] - 0s - loss: 0.0290 - acc: 0.9910 - val_loss: 0.3177 - val_acc: 0.9139\n",
      "Epoch 25/300\n",
      "1437/1437 [==============================] - 0s - loss: 0.0235 - acc: 0.9910 - val_loss: 0.3088 - val_acc: 0.9222\n",
      "Epoch 26/300\n",
      "1437/1437 [==============================] - 0s - loss: 0.0259 - acc: 0.9923 - val_loss: 0.3330 - val_acc: 0.9167\n",
      "Epoch 27/300\n",
      "1437/1437 [==============================] - 0s - loss: 0.0224 - acc: 0.9916 - val_loss: 0.3124 - val_acc: 0.9139\n",
      "Epoch 28/300\n",
      "1437/1437 [==============================] - 0s - loss: 0.0262 - acc: 0.9916 - val_loss: 0.2940 - val_acc: 0.9306\n",
      "Epoch 29/300\n",
      "1437/1437 [==============================] - 0s - loss: 0.0224 - acc: 0.9930 - val_loss: 0.3236 - val_acc: 0.9139\n",
      "Epoch 30/300\n",
      "1437/1437 [==============================] - 0s - loss: 0.0166 - acc: 0.9979 - val_loss: 0.2791 - val_acc: 0.9333\n",
      "Epoch 31/300\n",
      "1437/1437 [==============================] - 0s - loss: 0.0187 - acc: 0.9937 - val_loss: 0.3078 - val_acc: 0.9250\n",
      "Epoch 32/300\n",
      "1437/1437 [==============================] - 0s - loss: 0.0123 - acc: 0.9972 - val_loss: 0.2982 - val_acc: 0.9250\n",
      "Epoch 33/300\n",
      "1437/1437 [==============================] - 0s - loss: 0.0208 - acc: 0.9930 - val_loss: 0.3008 - val_acc: 0.9278\n",
      "Epoch 34/300\n",
      "1437/1437 [==============================] - 0s - loss: 0.0161 - acc: 0.9951 - val_loss: 0.3059 - val_acc: 0.9167\n",
      "Epoch 35/300\n",
      "1437/1437 [==============================] - 0s - loss: 0.0197 - acc: 0.9916 - val_loss: 0.3027 - val_acc: 0.9194\n",
      "Epoch 36/300\n",
      "1437/1437 [==============================] - 0s - loss: 0.0156 - acc: 0.9965 - val_loss: 0.3094 - val_acc: 0.9250\n",
      "Epoch 37/300\n",
      "1437/1437 [==============================] - 0s - loss: 0.0122 - acc: 0.9951 - val_loss: 0.3092 - val_acc: 0.9278\n",
      "Epoch 38/300\n",
      "1437/1437 [==============================] - 0s - loss: 0.0119 - acc: 0.9979 - val_loss: 0.3118 - val_acc: 0.9250\n",
      "Epoch 39/300\n",
      "1437/1437 [==============================] - 0s - loss: 0.0101 - acc: 0.9979 - val_loss: 0.2881 - val_acc: 0.9333\n",
      "Epoch 40/300\n",
      "1437/1437 [==============================] - 0s - loss: 0.0108 - acc: 0.9965 - val_loss: 0.3216 - val_acc: 0.9194\n",
      "Epoch 41/300\n",
      "1437/1437 [==============================] - 0s - loss: 0.0087 - acc: 0.9986 - val_loss: 0.3175 - val_acc: 0.9194\n",
      "Epoch 42/300\n",
      "1437/1437 [==============================] - 0s - loss: 0.0106 - acc: 0.9979 - val_loss: 0.3170 - val_acc: 0.9250\n",
      "Epoch 43/300\n",
      "1437/1437 [==============================] - 0s - loss: 0.0061 - acc: 0.9993 - val_loss: 0.3001 - val_acc: 0.9278\n",
      "Epoch 44/300\n",
      "1437/1437 [==============================] - 0s - loss: 0.0089 - acc: 0.9979 - val_loss: 0.2861 - val_acc: 0.9278\n",
      "Epoch 45/300\n",
      "1437/1437 [==============================] - 0s - loss: 0.0077 - acc: 0.9993 - val_loss: 0.2943 - val_acc: 0.9250\n",
      "Epoch 46/300\n",
      "1437/1437 [==============================] - 0s - loss: 0.0101 - acc: 0.9965 - val_loss: 0.3260 - val_acc: 0.9194\n",
      "Epoch 47/300\n",
      "1437/1437 [==============================] - 0s - loss: 0.0079 - acc: 0.9979 - val_loss: 0.3044 - val_acc: 0.9333\n",
      "Epoch 48/300\n",
      "1437/1437 [==============================] - 0s - loss: 0.0081 - acc: 0.9986 - val_loss: 0.2882 - val_acc: 0.9361\n",
      "Epoch 49/300\n",
      "1437/1437 [==============================] - 0s - loss: 0.0076 - acc: 0.9979 - val_loss: 0.2939 - val_acc: 0.9361\n",
      "Epoch 50/300\n",
      "1437/1437 [==============================] - 0s - loss: 0.0057 - acc: 0.9993 - val_loss: 0.3202 - val_acc: 0.9278\n",
      "Epoch 51/300\n",
      "1437/1437 [==============================] - 0s - loss: 0.0057 - acc: 0.9979 - val_loss: 0.3140 - val_acc: 0.9306\n",
      "Epoch 52/300\n",
      "1437/1437 [==============================] - 0s - loss: 0.0086 - acc: 0.9972 - val_loss: 0.2749 - val_acc: 0.9389\n",
      "Epoch 53/300\n",
      "1437/1437 [==============================] - 0s - loss: 0.0112 - acc: 0.9979 - val_loss: 0.2945 - val_acc: 0.9194\n",
      "Epoch 54/300\n",
      "1437/1437 [==============================] - 0s - loss: 0.0066 - acc: 0.9979 - val_loss: 0.3054 - val_acc: 0.9278\n",
      "Epoch 55/300\n",
      "1437/1437 [==============================] - 0s - loss: 0.0136 - acc: 0.9958 - val_loss: 0.2799 - val_acc: 0.9306\n",
      "Epoch 56/300\n",
      "1437/1437 [==============================] - 0s - loss: 0.0082 - acc: 0.9979 - val_loss: 0.2741 - val_acc: 0.9417\n",
      "Epoch 57/300\n",
      "1437/1437 [==============================] - 0s - loss: 0.0088 - acc: 0.9965 - val_loss: 0.2892 - val_acc: 0.9417\n",
      "Epoch 58/300\n",
      "1437/1437 [==============================] - 0s - loss: 0.0037 - acc: 1.0000 - val_loss: 0.2987 - val_acc: 0.9278\n",
      "Epoch 59/300\n",
      "1437/1437 [==============================] - 0s - loss: 0.0100 - acc: 0.9965 - val_loss: 0.2995 - val_acc: 0.9306\n",
      "Epoch 60/300\n",
      "1437/1437 [==============================] - 0s - loss: 0.0065 - acc: 0.9979 - val_loss: 0.2910 - val_acc: 0.9306\n",
      "Epoch 61/300\n",
      "1437/1437 [==============================] - 0s - loss: 0.0041 - acc: 0.9993 - val_loss: 0.2810 - val_acc: 0.9417\n",
      "Epoch 62/300\n",
      "1437/1437 [==============================] - 0s - loss: 0.0036 - acc: 0.9993 - val_loss: 0.2739 - val_acc: 0.9417\n",
      "Epoch 63/300\n",
      "1437/1437 [==============================] - 0s - loss: 0.0035 - acc: 1.0000 - val_loss: 0.2624 - val_acc: 0.9472\n",
      "Epoch 64/300\n",
      "1437/1437 [==============================] - 0s - loss: 0.0053 - acc: 0.9979 - val_loss: 0.2847 - val_acc: 0.9389\n",
      "Epoch 65/300\n"
     ]
    },
    {
     "name": "stdout",
     "output_type": "stream",
     "text": [
      "1437/1437 [==============================] - 0s - loss: 0.0040 - acc: 0.9986 - val_loss: 0.3056 - val_acc: 0.9306\n",
      "Epoch 66/300\n",
      "1437/1437 [==============================] - 0s - loss: 0.0054 - acc: 0.9993 - val_loss: 0.2797 - val_acc: 0.9417\n",
      "Epoch 67/300\n",
      "1437/1437 [==============================] - 0s - loss: 0.0045 - acc: 0.9993 - val_loss: 0.2718 - val_acc: 0.9417\n",
      "Epoch 68/300\n",
      "1437/1437 [==============================] - 0s - loss: 0.0025 - acc: 1.0000 - val_loss: 0.2785 - val_acc: 0.9472\n",
      "Epoch 69/300\n",
      "1437/1437 [==============================] - 0s - loss: 0.0031 - acc: 0.9986 - val_loss: 0.2873 - val_acc: 0.9444\n",
      "Epoch 70/300\n",
      "1437/1437 [==============================] - 0s - loss: 0.0057 - acc: 0.9965 - val_loss: 0.2836 - val_acc: 0.9333\n",
      "Epoch 71/300\n",
      "1437/1437 [==============================] - 0s - loss: 0.0038 - acc: 0.9993 - val_loss: 0.2865 - val_acc: 0.9389\n",
      "Epoch 72/300\n",
      "1437/1437 [==============================] - 0s - loss: 0.0046 - acc: 0.9993 - val_loss: 0.2802 - val_acc: 0.9417\n",
      "Epoch 73/300\n",
      "1437/1437 [==============================] - 0s - loss: 0.0048 - acc: 0.9986 - val_loss: 0.2751 - val_acc: 0.9361\n",
      "Epoch 74/300\n",
      "1437/1437 [==============================] - 0s - loss: 0.0031 - acc: 1.0000 - val_loss: 0.2805 - val_acc: 0.9306\n",
      "Epoch 75/300\n",
      "1437/1437 [==============================] - 0s - loss: 0.0027 - acc: 1.0000 - val_loss: 0.2756 - val_acc: 0.9389\n",
      "Epoch 76/300\n",
      "1437/1437 [==============================] - 0s - loss: 0.0053 - acc: 0.9986 - val_loss: 0.2561 - val_acc: 0.9500\n",
      "Epoch 77/300\n",
      "1437/1437 [==============================] - 0s - loss: 0.0056 - acc: 0.9979 - val_loss: 0.2741 - val_acc: 0.9444\n",
      "Epoch 78/300\n",
      "1437/1437 [==============================] - 0s - loss: 0.0070 - acc: 0.9979 - val_loss: 0.3003 - val_acc: 0.9389\n",
      "Epoch 79/300\n",
      "1437/1437 [==============================] - 0s - loss: 0.0043 - acc: 0.9979 - val_loss: 0.3062 - val_acc: 0.9389\n",
      "Epoch 80/300\n",
      "1437/1437 [==============================] - 0s - loss: 0.0048 - acc: 0.9993 - val_loss: 0.2863 - val_acc: 0.9444\n",
      "Epoch 81/300\n",
      "1437/1437 [==============================] - 0s - loss: 0.0039 - acc: 0.9993 - val_loss: 0.2837 - val_acc: 0.9500\n",
      "Epoch 82/300\n",
      "1437/1437 [==============================] - 0s - loss: 0.0091 - acc: 0.9972 - val_loss: 0.3291 - val_acc: 0.9444\n",
      "Epoch 83/300\n",
      "1437/1437 [==============================] - 0s - loss: 0.0055 - acc: 0.9986 - val_loss: 0.3319 - val_acc: 0.9417\n",
      "Epoch 84/300\n",
      "1437/1437 [==============================] - 0s - loss: 0.0024 - acc: 0.9993 - val_loss: 0.3512 - val_acc: 0.9278\n",
      "Epoch 85/300\n",
      "1437/1437 [==============================] - 0s - loss: 0.0045 - acc: 0.9993 - val_loss: 0.3231 - val_acc: 0.9333\n",
      "Epoch 86/300\n",
      "1437/1437 [==============================] - 0s - loss: 0.0026 - acc: 0.9993 - val_loss: 0.3124 - val_acc: 0.9306\n",
      "Epoch 87/300\n",
      "1437/1437 [==============================] - 0s - loss: 0.0048 - acc: 0.9986 - val_loss: 0.3347 - val_acc: 0.9306\n",
      "Epoch 88/300\n",
      "1437/1437 [==============================] - 0s - loss: 0.0024 - acc: 1.0000 - val_loss: 0.3495 - val_acc: 0.9222\n",
      "Epoch 89/300\n",
      "1437/1437 [==============================] - 0s - loss: 0.0027 - acc: 0.9993 - val_loss: 0.3640 - val_acc: 0.9250\n",
      "Epoch 90/300\n",
      "1437/1437 [==============================] - 0s - loss: 0.0022 - acc: 1.0000 - val_loss: 0.3641 - val_acc: 0.9333\n",
      "Epoch 91/300\n",
      "1437/1437 [==============================] - 0s - loss: 0.0033 - acc: 0.9993 - val_loss: 0.3547 - val_acc: 0.9333\n",
      "Epoch 92/300\n",
      "1437/1437 [==============================] - 0s - loss: 0.0029 - acc: 0.9986 - val_loss: 0.3987 - val_acc: 0.9361\n",
      "Epoch 93/300\n",
      "1437/1437 [==============================] - 0s - loss: 0.0043 - acc: 0.9979 - val_loss: 0.3793 - val_acc: 0.9333\n",
      "Epoch 94/300\n",
      "1437/1437 [==============================] - 0s - loss: 0.0037 - acc: 0.9993 - val_loss: 0.3871 - val_acc: 0.9333\n",
      "Epoch 95/300\n",
      "1437/1437 [==============================] - 0s - loss: 0.0033 - acc: 0.9986 - val_loss: 0.3455 - val_acc: 0.9333\n",
      "Epoch 96/300\n",
      "1437/1437 [==============================] - 0s - loss: 0.0024 - acc: 0.9986 - val_loss: 0.3701 - val_acc: 0.9306\n",
      "Epoch 97/300\n",
      "1437/1437 [==============================] - 0s - loss: 0.0028 - acc: 0.9986 - val_loss: 0.3151 - val_acc: 0.9361\n",
      "Epoch 98/300\n",
      "1437/1437 [==============================] - 0s - loss: 0.0017 - acc: 1.0000 - val_loss: 0.3025 - val_acc: 0.9389\n",
      "Epoch 99/300\n",
      "1437/1437 [==============================] - 0s - loss: 0.0032 - acc: 0.9986 - val_loss: 0.3189 - val_acc: 0.9389\n",
      "Epoch 100/300\n",
      "1437/1437 [==============================] - 0s - loss: 0.0017 - acc: 1.0000 - val_loss: 0.3586 - val_acc: 0.9361\n",
      "Epoch 101/300\n",
      "1437/1437 [==============================] - 0s - loss: 0.0039 - acc: 0.9986 - val_loss: 0.3558 - val_acc: 0.9306\n",
      "Epoch 102/300\n",
      "1437/1437 [==============================] - 0s - loss: 0.0018 - acc: 1.0000 - val_loss: 0.3654 - val_acc: 0.9333\n",
      "Epoch 103/300\n",
      "1437/1437 [==============================] - 0s - loss: 0.0030 - acc: 0.9993 - val_loss: 0.3585 - val_acc: 0.9361\n",
      "Epoch 104/300\n",
      "1437/1437 [==============================] - 0s - loss: 0.0023 - acc: 1.0000 - val_loss: 0.3411 - val_acc: 0.9361\n",
      "Epoch 105/300\n",
      "1437/1437 [==============================] - 0s - loss: 0.0034 - acc: 0.9986 - val_loss: 0.3552 - val_acc: 0.9389\n",
      "Epoch 106/300\n",
      "1437/1437 [==============================] - 0s - loss: 0.0031 - acc: 0.9993 - val_loss: 0.3192 - val_acc: 0.9361\n",
      "Epoch 107/300\n",
      "1437/1437 [==============================] - 0s - loss: 0.0026 - acc: 0.9993 - val_loss: 0.2943 - val_acc: 0.9389\n",
      "Epoch 108/300\n",
      "1437/1437 [==============================] - 0s - loss: 0.0047 - acc: 0.9993 - val_loss: 0.2838 - val_acc: 0.9444\n",
      "Epoch 109/300\n",
      "1437/1437 [==============================] - 0s - loss: 0.0021 - acc: 1.0000 - val_loss: 0.2931 - val_acc: 0.9389\n",
      "Epoch 110/300\n",
      "1437/1437 [==============================] - 0s - loss: 0.0035 - acc: 0.9993 - val_loss: 0.3200 - val_acc: 0.9389\n",
      "Epoch 111/300\n",
      "1437/1437 [==============================] - 0s - loss: 0.0110 - acc: 0.9965 - val_loss: 0.3399 - val_acc: 0.9278\n",
      "Epoch 112/300\n",
      "1437/1437 [==============================] - 0s - loss: 0.0066 - acc: 0.9979 - val_loss: 0.3350 - val_acc: 0.9361\n",
      "Epoch 113/300\n",
      "1437/1437 [==============================] - 0s - loss: 0.0103 - acc: 0.9979 - val_loss: 0.3052 - val_acc: 0.9500\n",
      "Epoch 114/300\n",
      "1437/1437 [==============================] - 0s - loss: 0.0029 - acc: 0.9986 - val_loss: 0.2880 - val_acc: 0.9472\n",
      "Epoch 115/300\n",
      "1437/1437 [==============================] - 0s - loss: 0.0021 - acc: 0.9993 - val_loss: 0.2818 - val_acc: 0.9444\n",
      "Epoch 116/300\n",
      "1437/1437 [==============================] - 0s - loss: 0.0026 - acc: 1.0000 - val_loss: 0.2742 - val_acc: 0.9528\n",
      "Epoch 117/300\n",
      "1437/1437 [==============================] - 0s - loss: 0.0013 - acc: 1.0000 - val_loss: 0.2769 - val_acc: 0.9583\n",
      "Epoch 118/300\n",
      "1437/1437 [==============================] - 0s - loss: 0.0025 - acc: 0.9993 - val_loss: 0.2893 - val_acc: 0.9472\n",
      "Epoch 119/300\n",
      "1437/1437 [==============================] - 0s - loss: 0.0036 - acc: 0.9986 - val_loss: 0.3280 - val_acc: 0.9417\n",
      "Epoch 120/300\n",
      "1437/1437 [==============================] - 0s - loss: 0.0019 - acc: 0.9993 - val_loss: 0.3164 - val_acc: 0.9417\n",
      "Epoch 121/300\n",
      "1437/1437 [==============================] - 0s - loss: 0.0012 - acc: 1.0000 - val_loss: 0.3212 - val_acc: 0.9444\n",
      "Epoch 122/300\n",
      "1437/1437 [==============================] - 0s - loss: 0.0072 - acc: 0.9958 - val_loss: 0.3481 - val_acc: 0.9389\n",
      "Epoch 123/300\n",
      "1437/1437 [==============================] - 0s - loss: 0.0025 - acc: 1.0000 - val_loss: 0.3052 - val_acc: 0.9361\n",
      "Epoch 124/300\n",
      "1437/1437 [==============================] - 0s - loss: 0.0017 - acc: 1.0000 - val_loss: 0.3101 - val_acc: 0.9389\n",
      "Epoch 125/300\n",
      "1437/1437 [==============================] - 0s - loss: 0.0050 - acc: 0.9986 - val_loss: 0.3183 - val_acc: 0.9472\n",
      "Epoch 126/300\n",
      "1437/1437 [==============================] - 0s - loss: 0.0012 - acc: 1.0000 - val_loss: 0.3301 - val_acc: 0.9417\n",
      "Epoch 127/300\n",
      "1437/1437 [==============================] - 0s - loss: 0.0034 - acc: 0.9993 - val_loss: 0.3161 - val_acc: 0.9444\n",
      "Epoch 128/300\n",
      "1437/1437 [==============================] - 0s - loss: 0.0016 - acc: 1.0000 - val_loss: 0.3082 - val_acc: 0.9361\n",
      "Epoch 129/300\n"
     ]
    },
    {
     "name": "stdout",
     "output_type": "stream",
     "text": [
      "1437/1437 [==============================] - 0s - loss: 0.0019 - acc: 0.9993 - val_loss: 0.2995 - val_acc: 0.9333\n",
      "Epoch 130/300\n",
      "1437/1437 [==============================] - 0s - loss: 0.0028 - acc: 0.9986 - val_loss: 0.3032 - val_acc: 0.9333\n",
      "Epoch 131/300\n",
      "1437/1437 [==============================] - 0s - loss: 0.0032 - acc: 0.9986 - val_loss: 0.3275 - val_acc: 0.9306\n",
      "Epoch 132/300\n",
      "1437/1437 [==============================] - 0s - loss: 0.0024 - acc: 0.9993 - val_loss: 0.3263 - val_acc: 0.9333\n",
      "Epoch 133/300\n",
      "1437/1437 [==============================] - 0s - loss: 0.0023 - acc: 0.9993 - val_loss: 0.3442 - val_acc: 0.9306\n",
      "Epoch 134/300\n",
      "1437/1437 [==============================] - 0s - loss: 0.0014 - acc: 1.0000 - val_loss: 0.3438 - val_acc: 0.9333\n",
      "Epoch 135/300\n",
      "1437/1437 [==============================] - 0s - loss: 0.0013 - acc: 1.0000 - val_loss: 0.3179 - val_acc: 0.9333\n",
      "Epoch 136/300\n",
      "1437/1437 [==============================] - 0s - loss: 0.0018 - acc: 0.9993 - val_loss: 0.3223 - val_acc: 0.9250\n",
      "Epoch 137/300\n",
      "1437/1437 [==============================] - 0s - loss: 0.0013 - acc: 1.0000 - val_loss: 0.3451 - val_acc: 0.9278\n",
      "Epoch 138/300\n",
      "1437/1437 [==============================] - 0s - loss: 5.7429e-04 - acc: 1.0000 - val_loss: 0.3487 - val_acc: 0.9306\n",
      "Epoch 139/300\n",
      "1437/1437 [==============================] - 0s - loss: 0.0025 - acc: 0.9993 - val_loss: 0.3911 - val_acc: 0.9222\n",
      "Epoch 140/300\n",
      "1437/1437 [==============================] - 0s - loss: 0.0013 - acc: 1.0000 - val_loss: 0.4481 - val_acc: 0.9194\n",
      "Epoch 141/300\n",
      "1437/1437 [==============================] - 0s - loss: 0.0070 - acc: 0.9972 - val_loss: 0.3253 - val_acc: 0.9250\n",
      "Epoch 142/300\n",
      "1437/1437 [==============================] - 0s - loss: 0.0069 - acc: 0.9972 - val_loss: 0.3319 - val_acc: 0.9361\n",
      "Epoch 143/300\n",
      "1437/1437 [==============================] - 0s - loss: 0.0050 - acc: 0.9986 - val_loss: 0.3756 - val_acc: 0.9250\n",
      "Epoch 144/300\n",
      "1437/1437 [==============================] - 0s - loss: 0.0052 - acc: 0.9986 - val_loss: 0.3754 - val_acc: 0.9278\n",
      "Epoch 145/300\n",
      "1437/1437 [==============================] - 0s - loss: 0.0033 - acc: 0.9986 - val_loss: 0.3493 - val_acc: 0.9333\n",
      "Epoch 146/300\n",
      "1437/1437 [==============================] - 0s - loss: 0.0010 - acc: 1.0000 - val_loss: 0.3458 - val_acc: 0.9306\n",
      "Epoch 147/300\n",
      "1437/1437 [==============================] - 0s - loss: 8.7947e-04 - acc: 1.0000 - val_loss: 0.3465 - val_acc: 0.9361\n",
      "Epoch 148/300\n",
      "1437/1437 [==============================] - 0s - loss: 0.0086 - acc: 0.9979 - val_loss: 0.3273 - val_acc: 0.9389\n",
      "Epoch 149/300\n",
      "1437/1437 [==============================] - ETA: 0s - loss: 1.7181e-04 - acc: 1.000 - 0s - loss: 0.0051 - acc: 0.9979 - val_loss: 0.3255 - val_acc: 0.9472\n",
      "Epoch 150/300\n",
      "1437/1437 [==============================] - 0s - loss: 0.0011 - acc: 1.0000 - val_loss: 0.3458 - val_acc: 0.9444\n",
      "Epoch 151/300\n",
      "1437/1437 [==============================] - 0s - loss: 0.0027 - acc: 0.9986 - val_loss: 0.3535 - val_acc: 0.9417\n",
      "Epoch 152/300\n",
      "1437/1437 [==============================] - 0s - loss: 0.0014 - acc: 1.0000 - val_loss: 0.3820 - val_acc: 0.9389\n",
      "Epoch 153/300\n",
      "1437/1437 [==============================] - 0s - loss: 0.0023 - acc: 0.9986 - val_loss: 0.4032 - val_acc: 0.9444\n",
      "Epoch 154/300\n",
      "1437/1437 [==============================] - 0s - loss: 0.0022 - acc: 0.9993 - val_loss: 0.4120 - val_acc: 0.9306\n",
      "Epoch 155/300\n",
      "1437/1437 [==============================] - 0s - loss: 0.0011 - acc: 1.0000 - val_loss: 0.4171 - val_acc: 0.9306\n",
      "Epoch 156/300\n",
      "1437/1437 [==============================] - 0s - loss: 8.5533e-04 - acc: 1.0000 - val_loss: 0.4218 - val_acc: 0.9306\n",
      "Epoch 157/300\n",
      "1437/1437 [==============================] - 0s - loss: 0.0019 - acc: 0.9993 - val_loss: 0.3025 - val_acc: 0.9472\n",
      "Epoch 158/300\n",
      "1437/1437 [==============================] - 0s - loss: 0.0035 - acc: 0.9986 - val_loss: 0.2950 - val_acc: 0.9528\n",
      "Epoch 159/300\n",
      "1437/1437 [==============================] - 0s - loss: 0.0012 - acc: 1.0000 - val_loss: 0.3111 - val_acc: 0.9472\n",
      "Epoch 160/300\n",
      "1437/1437 [==============================] - 0s - loss: 4.4039e-04 - acc: 1.0000 - val_loss: 0.3096 - val_acc: 0.9472\n",
      "Epoch 161/300\n",
      "1437/1437 [==============================] - ETA: 0s - loss: 3.0763e-04 - acc: 1.000 - 0s - loss: 0.0026 - acc: 0.9986 - val_loss: 0.3378 - val_acc: 0.9417\n",
      "Epoch 162/300\n",
      "1437/1437 [==============================] - 0s - loss: 0.0010 - acc: 1.0000 - val_loss: 0.3263 - val_acc: 0.9417\n",
      "Epoch 163/300\n",
      "1437/1437 [==============================] - 0s - loss: 7.3017e-04 - acc: 1.0000 - val_loss: 0.3212 - val_acc: 0.9528\n",
      "Epoch 164/300\n",
      "1437/1437 [==============================] - 0s - loss: 5.6251e-04 - acc: 1.0000 - val_loss: 0.3235 - val_acc: 0.9528\n",
      "Epoch 165/300\n",
      "1437/1437 [==============================] - 0s - loss: 6.2070e-04 - acc: 1.0000 - val_loss: 0.3161 - val_acc: 0.9500\n",
      "Epoch 166/300\n",
      "1437/1437 [==============================] - 0s - loss: 4.0293e-04 - acc: 1.0000 - val_loss: 0.2943 - val_acc: 0.9528\n",
      "Epoch 167/300\n",
      "1437/1437 [==============================] - 0s - loss: 0.0026 - acc: 0.9993 - val_loss: 0.3107 - val_acc: 0.9500\n",
      "Epoch 168/300\n",
      "1437/1437 [==============================] - 0s - loss: 0.0020 - acc: 0.9993 - val_loss: 0.3245 - val_acc: 0.9472\n",
      "Epoch 169/300\n",
      "1437/1437 [==============================] - 0s - loss: 7.3067e-04 - acc: 1.0000 - val_loss: 0.3121 - val_acc: 0.9444\n",
      "Epoch 170/300\n",
      "1437/1437 [==============================] - 0s - loss: 0.0034 - acc: 0.9979 - val_loss: 0.2972 - val_acc: 0.9444\n",
      "Epoch 171/300\n",
      "1437/1437 [==============================] - 0s - loss: 0.0058 - acc: 0.9986 - val_loss: 0.2986 - val_acc: 0.9444\n",
      "Epoch 172/300\n",
      "1437/1437 [==============================] - 0s - loss: 0.0047 - acc: 0.9986 - val_loss: 0.2999 - val_acc: 0.9472\n",
      "Epoch 173/300\n",
      "1437/1437 [==============================] - 0s - loss: 0.0012 - acc: 1.0000 - val_loss: 0.3094 - val_acc: 0.9583\n",
      "Epoch 174/300\n",
      "1437/1437 [==============================] - 0s - loss: 5.1636e-04 - acc: 1.0000 - val_loss: 0.3166 - val_acc: 0.9556\n",
      "Epoch 175/300\n",
      "1437/1437 [==============================] - 0s - loss: 0.0043 - acc: 0.9979 - val_loss: 0.3445 - val_acc: 0.9389\n",
      "Epoch 176/300\n",
      "1437/1437 [==============================] - 0s - loss: 0.0012 - acc: 0.9993 - val_loss: 0.3323 - val_acc: 0.9417\n",
      "Epoch 177/300\n",
      "1437/1437 [==============================] - 0s - loss: 9.0672e-04 - acc: 1.0000 - val_loss: 0.3141 - val_acc: 0.9500\n",
      "Epoch 178/300\n",
      "1437/1437 [==============================] - 0s - loss: 0.0012 - acc: 1.0000 - val_loss: 0.3128 - val_acc: 0.9500\n",
      "Epoch 179/300\n",
      "1437/1437 [==============================] - 0s - loss: 7.8298e-04 - acc: 1.0000 - val_loss: 0.3608 - val_acc: 0.9389\n",
      "Epoch 180/300\n",
      "1437/1437 [==============================] - 0s - loss: 0.0019 - acc: 0.9986 - val_loss: 0.3738 - val_acc: 0.9389\n",
      "Epoch 181/300\n",
      "1437/1437 [==============================] - 0s - loss: 6.5263e-04 - acc: 1.0000 - val_loss: 0.3515 - val_acc: 0.9389\n",
      "Epoch 182/300\n",
      "1437/1437 [==============================] - 0s - loss: 7.9721e-04 - acc: 1.0000 - val_loss: 0.3645 - val_acc: 0.9389\n",
      "Epoch 183/300\n",
      "1437/1437 [==============================] - 0s - loss: 0.0015 - acc: 0.9993 - val_loss: 0.3648 - val_acc: 0.9361\n",
      "Epoch 184/300\n",
      "1437/1437 [==============================] - 0s - loss: 5.3924e-04 - acc: 1.0000 - val_loss: 0.4021 - val_acc: 0.9361\n",
      "Epoch 185/300\n",
      "1437/1437 [==============================] - 0s - loss: 0.0012 - acc: 0.9993 - val_loss: 0.3595 - val_acc: 0.9361\n",
      "Epoch 186/300\n",
      "1437/1437 [==============================] - 0s - loss: 6.5664e-04 - acc: 1.0000 - val_loss: 0.3762 - val_acc: 0.9361\n",
      "Epoch 187/300\n",
      "1437/1437 [==============================] - 0s - loss: 0.0019 - acc: 0.9993 - val_loss: 0.3674 - val_acc: 0.9389\n",
      "Epoch 188/300\n",
      "1437/1437 [==============================] - 0s - loss: 0.0045 - acc: 0.9979 - val_loss: 0.3326 - val_acc: 0.9333\n",
      "Epoch 189/300\n",
      "1437/1437 [==============================] - 0s - loss: 0.0037 - acc: 0.9979 - val_loss: 0.3170 - val_acc: 0.9333\n",
      "Epoch 190/300\n",
      "1437/1437 [==============================] - 0s - loss: 0.0012 - acc: 1.0000 - val_loss: 0.3875 - val_acc: 0.9222\n",
      "Epoch 191/300\n"
     ]
    },
    {
     "name": "stdout",
     "output_type": "stream",
     "text": [
      "1437/1437 [==============================] - 0s - loss: 0.0014 - acc: 0.9993 - val_loss: 0.3452 - val_acc: 0.9333\n",
      "Epoch 192/300\n",
      "1437/1437 [==============================] - 0s - loss: 0.0025 - acc: 0.9993 - val_loss: 0.3293 - val_acc: 0.9306\n",
      "Epoch 193/300\n",
      "1437/1437 [==============================] - 0s - loss: 0.0013 - acc: 1.0000 - val_loss: 0.3235 - val_acc: 0.9333\n",
      "Epoch 194/300\n",
      "1437/1437 [==============================] - 0s - loss: 8.0120e-04 - acc: 1.0000 - val_loss: 0.3233 - val_acc: 0.9361\n",
      "Epoch 195/300\n",
      "1437/1437 [==============================] - 0s - loss: 0.0016 - acc: 0.9993 - val_loss: 0.3512 - val_acc: 0.9333\n",
      "Epoch 196/300\n",
      "1437/1437 [==============================] - 0s - loss: 4.6557e-04 - acc: 1.0000 - val_loss: 0.3638 - val_acc: 0.9306\n",
      "Epoch 197/300\n",
      "1437/1437 [==============================] - 0s - loss: 0.0026 - acc: 0.9993 - val_loss: 0.3193 - val_acc: 0.9444\n",
      "Epoch 198/300\n",
      "1437/1437 [==============================] - 0s - loss: 8.2061e-04 - acc: 1.0000 - val_loss: 0.3063 - val_acc: 0.9361\n",
      "Epoch 199/300\n",
      "1437/1437 [==============================] - 0s - loss: 4.0460e-04 - acc: 1.0000 - val_loss: 0.3015 - val_acc: 0.9417\n",
      "Epoch 200/300\n",
      "1437/1437 [==============================] - 0s - loss: 0.0015 - acc: 0.9993 - val_loss: 0.3000 - val_acc: 0.9361\n",
      "Epoch 201/300\n",
      "1437/1437 [==============================] - 0s - loss: 7.0244e-04 - acc: 1.0000 - val_loss: 0.2738 - val_acc: 0.9500\n",
      "Epoch 202/300\n",
      "1437/1437 [==============================] - 0s - loss: 2.1827e-04 - acc: 1.0000 - val_loss: 0.2719 - val_acc: 0.9500\n",
      "Epoch 203/300\n",
      "1437/1437 [==============================] - 0s - loss: 8.0157e-04 - acc: 1.0000 - val_loss: 0.2727 - val_acc: 0.9472\n",
      "Epoch 204/300\n",
      "1437/1437 [==============================] - 0s - loss: 9.7795e-04 - acc: 1.0000 - val_loss: 0.3014 - val_acc: 0.9389\n",
      "Epoch 205/300\n",
      "1437/1437 [==============================] - 0s - loss: 6.7319e-04 - acc: 1.0000 - val_loss: 0.2885 - val_acc: 0.9528\n",
      "Epoch 206/300\n",
      "1437/1437 [==============================] - 0s - loss: 8.4123e-04 - acc: 1.0000 - val_loss: 0.2941 - val_acc: 0.9528\n",
      "Epoch 207/300\n",
      "1437/1437 [==============================] - 0s - loss: 0.0016 - acc: 1.0000 - val_loss: 0.2833 - val_acc: 0.9528\n",
      "Epoch 208/300\n",
      "1437/1437 [==============================] - 0s - loss: 3.7547e-04 - acc: 1.0000 - val_loss: 0.2853 - val_acc: 0.9528\n",
      "Epoch 209/300\n",
      "1437/1437 [==============================] - 0s - loss: 5.1134e-04 - acc: 1.0000 - val_loss: 0.2889 - val_acc: 0.9500\n",
      "Epoch 210/300\n",
      "1437/1437 [==============================] - 0s - loss: 9.8601e-04 - acc: 0.9993 - val_loss: 0.2957 - val_acc: 0.9500\n",
      "Epoch 211/300\n",
      "1437/1437 [==============================] - 0s - loss: 0.0021 - acc: 0.9993 - val_loss: 0.3039 - val_acc: 0.9528\n",
      "Epoch 212/300\n",
      "1437/1437 [==============================] - 0s - loss: 0.0040 - acc: 0.9993 - val_loss: 0.3119 - val_acc: 0.9500\n",
      "Epoch 213/300\n",
      "1437/1437 [==============================] - 0s - loss: 0.0028 - acc: 0.9993 - val_loss: 0.3059 - val_acc: 0.9500\n",
      "Epoch 214/300\n",
      "1437/1437 [==============================] - 0s - loss: 0.0031 - acc: 0.9986 - val_loss: 0.3749 - val_acc: 0.9389\n",
      "Epoch 215/300\n",
      "1437/1437 [==============================] - 0s - loss: 0.0022 - acc: 0.9993 - val_loss: 0.3740 - val_acc: 0.9417\n",
      "Epoch 216/300\n",
      "1437/1437 [==============================] - 0s - loss: 0.0057 - acc: 0.9979 - val_loss: 0.2948 - val_acc: 0.9500\n",
      "Epoch 217/300\n",
      "1437/1437 [==============================] - 0s - loss: 0.0012 - acc: 0.9993 - val_loss: 0.3012 - val_acc: 0.9500\n",
      "Epoch 218/300\n",
      "1437/1437 [==============================] - 0s - loss: 0.0028 - acc: 0.9979 - val_loss: 0.3246 - val_acc: 0.9528\n",
      "Epoch 219/300\n",
      "1437/1437 [==============================] - 0s - loss: 0.0027 - acc: 0.9986 - val_loss: 0.3231 - val_acc: 0.9500\n",
      "Epoch 220/300\n",
      "1437/1437 [==============================] - 0s - loss: 0.0011 - acc: 1.0000 - val_loss: 0.3608 - val_acc: 0.9389\n",
      "Epoch 221/300\n",
      "1437/1437 [==============================] - 0s - loss: 0.0020 - acc: 0.9993 - val_loss: 0.3511 - val_acc: 0.9417\n",
      "Epoch 222/300\n",
      "1437/1437 [==============================] - 0s - loss: 0.0024 - acc: 0.9993 - val_loss: 0.3565 - val_acc: 0.9417\n",
      "Epoch 223/300\n",
      "1437/1437 [==============================] - 0s - loss: 0.0011 - acc: 0.9993 - val_loss: 0.4246 - val_acc: 0.9333\n",
      "Epoch 224/300\n",
      "1437/1437 [==============================] - 0s - loss: 0.0021 - acc: 0.9993 - val_loss: 0.3594 - val_acc: 0.9444\n",
      "Epoch 225/300\n",
      "1437/1437 [==============================] - 0s - loss: 0.0013 - acc: 0.9993 - val_loss: 0.3364 - val_acc: 0.9417\n",
      "Epoch 226/300\n",
      "1437/1437 [==============================] - 0s - loss: 0.0020 - acc: 0.9986 - val_loss: 0.3870 - val_acc: 0.9361\n",
      "Epoch 227/300\n",
      "1437/1437 [==============================] - 0s - loss: 0.0013 - acc: 0.9993 - val_loss: 0.3505 - val_acc: 0.9417\n",
      "Epoch 228/300\n",
      "1437/1437 [==============================] - 0s - loss: 8.7322e-04 - acc: 1.0000 - val_loss: 0.2878 - val_acc: 0.9500\n",
      "Epoch 229/300\n",
      "1437/1437 [==============================] - 0s - loss: 0.0015 - acc: 0.9993 - val_loss: 0.3143 - val_acc: 0.9472\n",
      "Epoch 230/300\n",
      "1437/1437 [==============================] - 0s - loss: 6.0711e-04 - acc: 1.0000 - val_loss: 0.3132 - val_acc: 0.9472\n",
      "Epoch 231/300\n",
      "1437/1437 [==============================] - 0s - loss: 8.7089e-04 - acc: 1.0000 - val_loss: 0.3158 - val_acc: 0.9444\n",
      "Epoch 232/300\n",
      "1437/1437 [==============================] - 0s - loss: 3.3793e-04 - acc: 1.0000 - val_loss: 0.3260 - val_acc: 0.9444\n",
      "Epoch 233/300\n",
      "1437/1437 [==============================] - 0s - loss: 8.4515e-04 - acc: 1.0000 - val_loss: 0.3228 - val_acc: 0.9444\n",
      "Epoch 234/300\n",
      "1437/1437 [==============================] - 0s - loss: 0.0025 - acc: 0.9993 - val_loss: 0.3097 - val_acc: 0.9611\n",
      "Epoch 235/300\n",
      "1437/1437 [==============================] - 0s - loss: 0.0035 - acc: 0.9986 - val_loss: 0.3121 - val_acc: 0.9556\n",
      "Epoch 236/300\n",
      "1437/1437 [==============================] - 0s - loss: 0.0086 - acc: 0.9979 - val_loss: 0.3311 - val_acc: 0.9528\n",
      "Epoch 237/300\n",
      "1437/1437 [==============================] - 0s - loss: 8.1934e-04 - acc: 1.0000 - val_loss: 0.3318 - val_acc: 0.9528\n",
      "Epoch 238/300\n",
      "1437/1437 [==============================] - 0s - loss: 1.5096e-04 - acc: 1.0000 - val_loss: 0.3320 - val_acc: 0.9500\n",
      "Epoch 239/300\n",
      "1437/1437 [==============================] - 0s - loss: 8.6866e-04 - acc: 1.0000 - val_loss: 0.3272 - val_acc: 0.9556\n",
      "Epoch 240/300\n",
      "1437/1437 [==============================] - 0s - loss: 0.0033 - acc: 0.9993 - val_loss: 0.3204 - val_acc: 0.9556\n",
      "Epoch 241/300\n",
      "1437/1437 [==============================] - 0s - loss: 0.0053 - acc: 0.9979 - val_loss: 0.3571 - val_acc: 0.9500\n",
      "Epoch 242/300\n",
      "1437/1437 [==============================] - 0s - loss: 4.7849e-04 - acc: 1.0000 - val_loss: 0.3741 - val_acc: 0.9444\n",
      "Epoch 243/300\n",
      "1437/1437 [==============================] - 0s - loss: 4.2733e-04 - acc: 1.0000 - val_loss: 0.3885 - val_acc: 0.9444\n",
      "Epoch 244/300\n",
      "1437/1437 [==============================] - 0s - loss: 5.1022e-04 - acc: 1.0000 - val_loss: 0.3996 - val_acc: 0.9444\n",
      "Epoch 245/300\n",
      "1437/1437 [==============================] - 0s - loss: 0.0011 - acc: 1.0000 - val_loss: 0.4011 - val_acc: 0.9444\n",
      "Epoch 246/300\n",
      "1437/1437 [==============================] - 0s - loss: 2.1162e-04 - acc: 1.0000 - val_loss: 0.3934 - val_acc: 0.9417\n",
      "Epoch 247/300\n",
      "1437/1437 [==============================] - 0s - loss: 1.2790e-04 - acc: 1.0000 - val_loss: 0.3931 - val_acc: 0.9417\n",
      "Epoch 248/300\n",
      "1437/1437 [==============================] - 0s - loss: 2.8253e-04 - acc: 1.0000 - val_loss: 0.3919 - val_acc: 0.9444\n",
      "Epoch 249/300\n",
      "1437/1437 [==============================] - 0s - loss: 1.9124e-04 - acc: 1.0000 - val_loss: 0.3818 - val_acc: 0.9472\n",
      "Epoch 250/300\n",
      "1437/1437 [==============================] - 0s - loss: 2.1445e-04 - acc: 1.0000 - val_loss: 0.3809 - val_acc: 0.9472\n",
      "Epoch 251/300\n",
      "1437/1437 [==============================] - 0s - loss: 1.1306e-04 - acc: 1.0000 - val_loss: 0.3821 - val_acc: 0.9472\n",
      "Epoch 252/300\n",
      "1437/1437 [==============================] - 0s - loss: 2.5099e-04 - acc: 1.0000 - val_loss: 0.3832 - val_acc: 0.9444\n",
      "Epoch 253/300\n",
      "1437/1437 [==============================] - 0s - loss: 2.3636e-04 - acc: 1.0000 - val_loss: 0.3874 - val_acc: 0.9444\n",
      "Epoch 254/300\n"
     ]
    },
    {
     "name": "stdout",
     "output_type": "stream",
     "text": [
      "1437/1437 [==============================] - 0s - loss: 9.0986e-04 - acc: 0.9993 - val_loss: 0.3940 - val_acc: 0.9417\n",
      "Epoch 255/300\n",
      "1437/1437 [==============================] - 0s - loss: 0.0028 - acc: 0.9993 - val_loss: 0.3477 - val_acc: 0.9528\n",
      "Epoch 256/300\n",
      "1437/1437 [==============================] - 0s - loss: 4.5527e-04 - acc: 1.0000 - val_loss: 0.3502 - val_acc: 0.9528\n",
      "Epoch 257/300\n",
      "1437/1437 [==============================] - 0s - loss: 0.0014 - acc: 0.9993 - val_loss: 0.3374 - val_acc: 0.9417\n",
      "Epoch 258/300\n",
      "1437/1437 [==============================] - 0s - loss: 6.3665e-04 - acc: 1.0000 - val_loss: 0.3315 - val_acc: 0.9444\n",
      "Epoch 259/300\n",
      "1437/1437 [==============================] - 0s - loss: 2.4518e-04 - acc: 1.0000 - val_loss: 0.3430 - val_acc: 0.9444\n",
      "Epoch 260/300\n",
      "1437/1437 [==============================] - 0s - loss: 4.4657e-04 - acc: 1.0000 - val_loss: 0.3408 - val_acc: 0.9444\n",
      "Epoch 261/300\n",
      "1437/1437 [==============================] - 0s - loss: 0.0108 - acc: 0.9979 - val_loss: 0.3965 - val_acc: 0.9417\n",
      "Epoch 262/300\n",
      "1437/1437 [==============================] - 0s - loss: 0.0013 - acc: 1.0000 - val_loss: 0.4236 - val_acc: 0.9389\n",
      "Epoch 263/300\n",
      "1437/1437 [==============================] - 0s - loss: 0.0016 - acc: 0.9993 - val_loss: 0.4375 - val_acc: 0.9361\n",
      "Epoch 264/300\n",
      "1437/1437 [==============================] - 0s - loss: 0.0021 - acc: 0.9993 - val_loss: 0.4362 - val_acc: 0.9306\n",
      "Epoch 265/300\n",
      "1437/1437 [==============================] - 0s - loss: 0.0040 - acc: 0.9979 - val_loss: 0.4002 - val_acc: 0.9333\n",
      "Epoch 266/300\n",
      "1437/1437 [==============================] - 0s - loss: 0.0012 - acc: 0.9993 - val_loss: 0.3666 - val_acc: 0.9417\n",
      "Epoch 267/300\n",
      "1437/1437 [==============================] - 0s - loss: 0.0029 - acc: 0.9986 - val_loss: 0.5126 - val_acc: 0.9278\n",
      "Epoch 268/300\n",
      "1437/1437 [==============================] - 0s - loss: 5.3053e-04 - acc: 1.0000 - val_loss: 0.5691 - val_acc: 0.9278\n",
      "Epoch 269/300\n",
      "1437/1437 [==============================] - 0s - loss: 0.0028 - acc: 0.9986 - val_loss: 0.4862 - val_acc: 0.9250\n",
      "Epoch 270/300\n",
      "1437/1437 [==============================] - 0s - loss: 0.0098 - acc: 0.9972 - val_loss: 0.5120 - val_acc: 0.9194\n",
      "Epoch 271/300\n",
      "1437/1437 [==============================] - 0s - loss: 0.0055 - acc: 0.9986 - val_loss: 0.4433 - val_acc: 0.9361\n",
      "Epoch 272/300\n",
      "1437/1437 [==============================] - 0s - loss: 6.4750e-04 - acc: 1.0000 - val_loss: 0.4392 - val_acc: 0.9306\n",
      "Epoch 273/300\n",
      "1437/1437 [==============================] - 0s - loss: 8.6984e-04 - acc: 1.0000 - val_loss: 0.4398 - val_acc: 0.9333\n",
      "Epoch 274/300\n",
      "1437/1437 [==============================] - 0s - loss: 0.0011 - acc: 1.0000 - val_loss: 0.4330 - val_acc: 0.9361\n",
      "Epoch 275/300\n",
      "1437/1437 [==============================] - 0s - loss: 0.0030 - acc: 0.9993 - val_loss: 0.4139 - val_acc: 0.9333\n",
      "Epoch 276/300\n",
      "1437/1437 [==============================] - 0s - loss: 8.9091e-04 - acc: 1.0000 - val_loss: 0.4285 - val_acc: 0.9417\n",
      "Epoch 277/300\n",
      "1437/1437 [==============================] - 0s - loss: 0.0025 - acc: 0.9986 - val_loss: 0.3915 - val_acc: 0.9417\n",
      "Epoch 278/300\n",
      "1437/1437 [==============================] - 0s - loss: 0.0038 - acc: 0.9979 - val_loss: 0.4132 - val_acc: 0.9389\n",
      "Epoch 279/300\n",
      "1437/1437 [==============================] - 0s - loss: 7.8691e-04 - acc: 1.0000 - val_loss: 0.4479 - val_acc: 0.9361\n",
      "Epoch 280/300\n",
      "1437/1437 [==============================] - 0s - loss: 3.5887e-04 - acc: 1.0000 - val_loss: 0.4590 - val_acc: 0.9333\n",
      "Epoch 281/300\n",
      "1437/1437 [==============================] - 0s - loss: 4.7546e-04 - acc: 1.0000 - val_loss: 0.4485 - val_acc: 0.9306\n",
      "Epoch 282/300\n",
      "1437/1437 [==============================] - 0s - loss: 1.1642e-04 - acc: 1.0000 - val_loss: 0.4447 - val_acc: 0.9333\n",
      "Epoch 283/300\n",
      "1437/1437 [==============================] - 0s - loss: 4.0282e-04 - acc: 1.0000 - val_loss: 0.4406 - val_acc: 0.9333\n",
      "Epoch 284/300\n",
      "1437/1437 [==============================] - 0s - loss: 0.0020 - acc: 0.9986 - val_loss: 0.4137 - val_acc: 0.9389\n",
      "Epoch 285/300\n",
      "1437/1437 [==============================] - 0s - loss: 0.0016 - acc: 0.9993 - val_loss: 0.4559 - val_acc: 0.9361\n",
      "Epoch 286/300\n",
      "1437/1437 [==============================] - 0s - loss: 0.0017 - acc: 0.9993 - val_loss: 0.4728 - val_acc: 0.9278\n",
      "Epoch 287/300\n",
      "1437/1437 [==============================] - 0s - loss: 6.6883e-04 - acc: 1.0000 - val_loss: 0.4700 - val_acc: 0.9250\n",
      "Epoch 288/300\n",
      "1437/1437 [==============================] - 0s - loss: 4.8851e-04 - acc: 1.0000 - val_loss: 0.4728 - val_acc: 0.9278\n",
      "Epoch 289/300\n",
      "1437/1437 [==============================] - 0s - loss: 5.0912e-04 - acc: 1.0000 - val_loss: 0.4770 - val_acc: 0.9278\n",
      "Epoch 290/300\n",
      "1437/1437 [==============================] - 0s - loss: 4.6163e-04 - acc: 1.0000 - val_loss: 0.4733 - val_acc: 0.9278\n",
      "Epoch 291/300\n",
      "1437/1437 [==============================] - 0s - loss: 0.0038 - acc: 0.9993 - val_loss: 0.5303 - val_acc: 0.9222\n",
      "Epoch 292/300\n",
      "1437/1437 [==============================] - 0s - loss: 0.0028 - acc: 0.9986 - val_loss: 0.4958 - val_acc: 0.9250\n",
      "Epoch 293/300\n",
      "1437/1437 [==============================] - 0s - loss: 5.5960e-04 - acc: 1.0000 - val_loss: 0.4907 - val_acc: 0.9278\n",
      "Epoch 294/300\n",
      "1437/1437 [==============================] - 0s - loss: 1.8253e-04 - acc: 1.0000 - val_loss: 0.4872 - val_acc: 0.9278\n",
      "Epoch 295/300\n",
      "1437/1437 [==============================] - 0s - loss: 0.0013 - acc: 0.9993 - val_loss: 0.4923 - val_acc: 0.9250\n",
      "Epoch 296/300\n",
      "1437/1437 [==============================] - 0s - loss: 7.5811e-04 - acc: 1.0000 - val_loss: 0.4439 - val_acc: 0.9306\n",
      "Epoch 297/300\n",
      "1437/1437 [==============================] - 0s - loss: 8.5914e-04 - acc: 1.0000 - val_loss: 0.4076 - val_acc: 0.9333\n",
      "Epoch 298/300\n",
      "1437/1437 [==============================] - 0s - loss: 9.2343e-04 - acc: 0.9993 - val_loss: 0.4215 - val_acc: 0.9361\n",
      "Epoch 299/300\n",
      "1437/1437 [==============================] - 0s - loss: 0.0020 - acc: 0.9986 - val_loss: 0.4214 - val_acc: 0.9389\n",
      "Epoch 300/300\n",
      "1437/1437 [==============================] - 0s - loss: 0.0037 - acc: 0.9993 - val_loss: 0.4457 - val_acc: 0.9333\n"
     ]
    },
    {
     "data": {
      "text/plain": [
       "<keras.callbacks.History at 0x1117b6080>"
      ]
     },
     "execution_count": 126,
     "metadata": {},
     "output_type": "execute_result"
    }
   ],
   "source": [
    "model.fit(X,y_dum, batch_size=64, epochs=300, validation_split=0.2)"
   ]
  },
  {
   "cell_type": "markdown",
   "metadata": {},
   "source": [
    "## ANN без сверточных слоев распознает в среднем на 93%"
   ]
  },
  {
   "cell_type": "code",
   "execution_count": null,
   "metadata": {
    "collapsed": true
   },
   "outputs": [],
   "source": []
  }
 ],
 "metadata": {
  "kernelspec": {
   "display_name": "Python 3",
   "language": "python",
   "name": "python3"
  },
  "language_info": {
   "codemirror_mode": {
    "name": "ipython",
    "version": 3
   },
   "file_extension": ".py",
   "mimetype": "text/x-python",
   "name": "python",
   "nbconvert_exporter": "python",
   "pygments_lexer": "ipython3",
   "version": "3.6.2"
  }
 },
 "nbformat": 4,
 "nbformat_minor": 2
}
